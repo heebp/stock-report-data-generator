{
 "cells": [
  {
   "cell_type": "code",
   "execution_count": null,
   "metadata": {},
   "outputs": [],
   "source": [
    "%pip install mojito2 python-dotenv pandas pymysql mysql-connector-python sqlalchemy"
   ]
  },
  {
   "cell_type": "code",
   "execution_count": 5,
   "metadata": {},
   "outputs": [],
   "source": [
    "import os\n",
    "from dotenv import load_dotenv\n",
    "import datetime\n",
    "\n",
    "load_dotenv()\n",
    "\n",
    "KIS_APP_KEY = os.getenv(\"KIS_APP_KEY\")\n",
    "KIS_APP_SECRET = os.getenv(\"KIS_APP_SECRET\")\n",
    "KIS_ACC_NO = os.getenv(\"KIS_ACC_NO\")\n",
    "DB_HOST = os.getenv(\"DB_HOST\")\n",
    "DB_USERNAME = os.getenv(\"DB_USERNAME\")\n",
    "DB_PASSWORD = os.getenv(\"DB_PASSWORD\")\n",
    "DB_SCHEME = os.getenv(\"DB_SCHEME\")\n"
   ]
  },
  {
   "cell_type": "code",
   "execution_count": 6,
   "metadata": {},
   "outputs": [],
   "source": [
    "import pandas as pd\n",
    "import requests as rq\n",
    "from io import StringIO\n",
    "\n",
    "def get_krx_otp(otp_params, headers):\n",
    "  krx_gen_otp_url = 'http://data.krx.co.kr/comm/fileDn/GenerateOTP/generate.cmd'\n",
    "  krx_otp = rq.post(krx_gen_otp_url, otp_params, headers = headers).text\n",
    "  return krx_otp\n",
    "\n",
    "def download_krx_sector(at_date, market = None):\n",
    "  if not market:\n",
    "    kospi_df = download_krx_sector(at_date, 'KOSPI')\n",
    "    kosdaq_df = download_krx_sector(at_date, 'KOSDAQ')\n",
    "    return pd.concat([kospi_df, kosdaq_df])\n",
    "\n",
    "  headers = {             \n",
    "    \"User-Agent\": \"Mozilla/5.0\",\n",
    "    \"Referer\": \"http://data.krx.co.kr/\"\n",
    "  }\n",
    "  otp_params = {\n",
    "      'locale': 'ko_KR',\n",
    "      'trdDd': at_date,\n",
    "      'money': '1',\n",
    "      'csvxls_isNo': 'false',\n",
    "      'name': 'fileDown',\n",
    "      'url': 'dbms/MDC/STAT/standard/MDCSTAT03501'\n",
    "  }\n",
    "  if market == 'KOSPI':\n",
    "    otp_params |= { 'mktId': 'STK' }\n",
    "  elif market == 'KOSDAQ':\n",
    "    otp_params |= { 'mktId': 'KSQ', 'segTpCd': 'ALL' }\n",
    "\n",
    "  otp = get_krx_otp(otp_params, headers)\n",
    "\n",
    "  download_url = 'http://data.krx.co.kr/comm/fileDn/download_csv/download.cmd'\n",
    "  download_params = {\n",
    "      'code': otp\n",
    "  }\n",
    "  res = rq.post(download_url, download_params, headers = headers)\n",
    "  res.encoding = 'euc-kr'\n",
    "  return pd.read_csv(StringIO(res.text))"
   ]
  },
  {
   "cell_type": "code",
   "execution_count": 7,
   "metadata": {},
   "outputs": [],
   "source": [
    "# 현재 날짜를 YYYYMMDD 형식으로 변환\n",
    "now = datetime.datetime.now()\n",
    "current_date_str = now.strftime('%Y%m%d')\n",
    "\n",
    "df = download_krx_sector(current_date_str)"
   ]
  },
  {
   "cell_type": "code",
   "execution_count": 8,
   "metadata": {},
   "outputs": [
    {
     "data": {
      "text/html": [
       "<div>\n",
       "<style scoped>\n",
       "    .dataframe tbody tr th:only-of-type {\n",
       "        vertical-align: middle;\n",
       "    }\n",
       "\n",
       "    .dataframe tbody tr th {\n",
       "        vertical-align: top;\n",
       "    }\n",
       "\n",
       "    .dataframe thead th {\n",
       "        text-align: right;\n",
       "    }\n",
       "</style>\n",
       "<table border=\"1\" class=\"dataframe\">\n",
       "  <thead>\n",
       "    <tr style=\"text-align: right;\">\n",
       "      <th></th>\n",
       "      <th>종목코드</th>\n",
       "      <th>종목명</th>\n",
       "      <th>종가</th>\n",
       "      <th>대비</th>\n",
       "      <th>등락률</th>\n",
       "      <th>EPS</th>\n",
       "      <th>PER</th>\n",
       "      <th>선행 EPS</th>\n",
       "      <th>선행 PER</th>\n",
       "      <th>BPS</th>\n",
       "      <th>PBR</th>\n",
       "      <th>주당배당금</th>\n",
       "      <th>배당수익률</th>\n",
       "    </tr>\n",
       "  </thead>\n",
       "  <tbody>\n",
       "  </tbody>\n",
       "</table>\n",
       "</div>"
      ],
      "text/plain": [
       "Empty DataFrame\n",
       "Columns: [종목코드, 종목명, 종가, 대비, 등락률, EPS, PER, 선행 EPS, 선행 PER, BPS, PBR, 주당배당금, 배당수익률]\n",
       "Index: []"
      ]
     },
     "execution_count": 8,
     "metadata": {},
     "output_type": "execute_result"
    }
   ],
   "source": [
    "df"
   ]
  },
  {
   "cell_type": "code",
   "execution_count": 9,
   "metadata": {},
   "outputs": [],
   "source": [
    "df_column_mapping = {\n",
    "    '단축코드': 'SHORT_CODE',\n",
    "    # '서브카테고리' : 'SUB_CATEGORY_ID',\n",
    "    '한글 종목약명': 'STOCK_NAME',\n",
    "    '표준코드': 'STANDARD_CODE',\n",
    "    '시장구분': 'STOCK_EXCHANGE_MARKET',\n",
    "    '상장주식수': 'MARKET_CAPITALIZATION',\n",
    "    '시가': 'OPEN_PRICE',\n",
    "    '종가': 'CLOSED_PRICE',\n",
    "    '고가': 'HIGH_PRICE',\n",
    "    '저가': 'LOW_PRICE',\n",
    "    '거래정지': 'STOCK_TRADE_STATUS',\n",
    "}\n",
    "\n",
    "# 컬럼명 매핑 적용\n",
    "df.rename(columns=df_column_mapping, inplace=True)"
   ]
  },
  {
   "cell_type": "markdown",
   "metadata": {},
   "source": []
  },
  {
   "cell_type": "code",
   "execution_count": 10,
   "metadata": {},
   "outputs": [
    {
     "data": {
      "text/html": [
       "<div>\n",
       "<style scoped>\n",
       "    .dataframe tbody tr th:only-of-type {\n",
       "        vertical-align: middle;\n",
       "    }\n",
       "\n",
       "    .dataframe tbody tr th {\n",
       "        vertical-align: top;\n",
       "    }\n",
       "\n",
       "    .dataframe thead th {\n",
       "        text-align: right;\n",
       "    }\n",
       "</style>\n",
       "<table border=\"1\" class=\"dataframe\">\n",
       "  <thead>\n",
       "    <tr style=\"text-align: right;\">\n",
       "      <th></th>\n",
       "      <th>종목코드</th>\n",
       "      <th>종목명</th>\n",
       "      <th>CLOSED_PRICE</th>\n",
       "      <th>대비</th>\n",
       "      <th>등락률</th>\n",
       "      <th>EPS</th>\n",
       "      <th>PER</th>\n",
       "      <th>선행 EPS</th>\n",
       "      <th>선행 PER</th>\n",
       "      <th>BPS</th>\n",
       "      <th>PBR</th>\n",
       "      <th>주당배당금</th>\n",
       "      <th>배당수익률</th>\n",
       "    </tr>\n",
       "  </thead>\n",
       "  <tbody>\n",
       "  </tbody>\n",
       "</table>\n",
       "</div>"
      ],
      "text/plain": [
       "Empty DataFrame\n",
       "Columns: [종목코드, 종목명, CLOSED_PRICE, 대비, 등락률, EPS, PER, 선행 EPS, 선행 PER, BPS, PBR, 주당배당금, 배당수익률]\n",
       "Index: []"
      ]
     },
     "execution_count": 10,
     "metadata": {},
     "output_type": "execute_result"
    }
   ],
   "source": [
    "df"
   ]
  },
  {
   "cell_type": "code",
   "execution_count": 11,
   "metadata": {},
   "outputs": [],
   "source": [
    "for column in [\n",
    " 'SHORT_CODE',\n",
    " 'SUB_CATEGORY_ID',\n",
    " 'STOCK_NAME',\n",
    " 'STANDARD_CODE',\n",
    " 'STOCK_EXCHANGE_MARKET',\n",
    " 'MARKET_CAPITALIZATION',\n",
    " 'OPEN_PRICE',\n",
    " 'CLOSED_PRICE',\n",
    " 'HIGH_PRICE',\n",
    " 'LOW_PRICE',\n",
    " 'STOCK_TRADE_STATUS']:\n",
    "    if column not in df.columns:\n",
    "        df[column] = 1\n"
   ]
  },
  {
   "cell_type": "code",
   "execution_count": 12,
   "metadata": {},
   "outputs": [],
   "source": [
    "\n",
    "columns_to_keep = [\n",
    " 'SHORT_CODE',\n",
    " 'SUB_CATEGORY_ID',\n",
    " 'STOCK_NAME',\n",
    " 'STANDARD_CODE',\n",
    " 'STOCK_EXCHANGE_MARKET',\n",
    " 'MARKET_CAPITALIZATION',\n",
    " 'OPEN_PRICE',\n",
    " 'CLOSED_PRICE',\n",
    " 'HIGH_PRICE',\n",
    " 'LOW_PRICE',\n",
    " 'STOCK_TRADE_STATUS'\n",
    "]\n",
    "\n",
    "df = df[columns_to_keep]"
   ]
  },
  {
   "cell_type": "code",
   "execution_count": 13,
   "metadata": {},
   "outputs": [],
   "source": [
    "df['STOCK_EXCHANGE_MARKET'] = df['STOCK_EXCHANGE_MARKET'].map({'KOSPI': \"0\", 'KOSDAQ': \"1\"})"
   ]
  },
  {
   "cell_type": "code",
   "execution_count": 14,
   "metadata": {},
   "outputs": [],
   "source": [
    "df.to_csv(\"stock_info.csv\", index=True, encoding=\"utf-8-sig\")\n"
   ]
  },
  {
   "cell_type": "code",
   "execution_count": 16,
   "metadata": {},
   "outputs": [
    {
     "data": {
      "text/plain": [
       "0"
      ]
     },
     "execution_count": 16,
     "metadata": {},
     "output_type": "execute_result"
    }
   ],
   "source": [
    "from sqlalchemy import create_engine\n",
    "# MySQL 데이터베이스 연결 설정\n",
    "db_username = DB_USERNAME\n",
    "db_password = DB_PASSWORD\n",
    "db_host = DB_HOST\n",
    "db_name = DB_SCHEME\n",
    "\n",
    "# SQLAlchemy 엔진 생성\n",
    "engine = create_engine(f'mysql+pymysql://{db_username}:{db_password}@{db_host}/{db_name}')\n",
    "\n",
    "df.to_sql(name='STOCK', con=engine, if_exists='append', index=False)\n"
   ]
  },
  {
   "cell_type": "code",
   "execution_count": null,
   "metadata": {},
   "outputs": [],
   "source": []
  }
 ],
 "metadata": {
  "kernelspec": {
   "display_name": "stock-info",
   "language": "python",
   "name": "python3"
  },
  "language_info": {
   "codemirror_mode": {
    "name": "ipython",
    "version": 3
   },
   "file_extension": ".py",
   "mimetype": "text/x-python",
   "name": "python",
   "nbconvert_exporter": "python",
   "pygments_lexer": "ipython3",
   "version": "3.12.5"
  }
 },
 "nbformat": 4,
 "nbformat_minor": 2
}
