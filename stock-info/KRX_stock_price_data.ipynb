{
 "cells": [
  {
   "cell_type": "code",
   "execution_count": 16,
   "metadata": {},
   "outputs": [
    {
     "name": "stdout",
     "output_type": "stream",
     "text": [
      "Requirement already satisfied: setuptools in c:\\users\\student\\documents\\stock-report-data-generator\\stock-info\\lib\\site-packages (75.1.0)\n",
      "Requirement already satisfied: wheel in c:\\users\\student\\documents\\stock-report-data-generator\\stock-info\\lib\\site-packages (0.44.0)\n",
      "Note: you may need to restart the kernel to use updated packages.\n"
     ]
    }
   ],
   "source": [
    "%pip install --upgrade setuptools wheel "
   ]
  },
  {
   "cell_type": "code",
   "execution_count": 17,
   "metadata": {},
   "outputs": [
    {
     "name": "stdout",
     "output_type": "stream",
     "text": [
      "Requirement already satisfied: certifi==2024.7.4 in c:\\users\\student\\documents\\stock-report-data-generator\\stock-info\\lib\\site-packages (from -r requirements.txt (line 1)) (2024.7.4)\n",
      "Requirement already satisfied: charset-normalizer==3.3.2 in c:\\users\\student\\documents\\stock-report-data-generator\\stock-info\\lib\\site-packages (from -r requirements.txt (line 2)) (3.3.2)\n",
      "Requirement already satisfied: contourpy==1.2.1 in c:\\users\\student\\documents\\stock-report-data-generator\\stock-info\\lib\\site-packages (from -r requirements.txt (line 3)) (1.2.1)\n",
      "Requirement already satisfied: cycler==0.12.1 in c:\\users\\student\\documents\\stock-report-data-generator\\stock-info\\lib\\site-packages (from -r requirements.txt (line 4)) (0.12.1)\n",
      "Requirement already satisfied: Deprecated==1.2.14 in c:\\users\\student\\documents\\stock-report-data-generator\\stock-info\\lib\\site-packages (from -r requirements.txt (line 5)) (1.2.14)\n",
      "Requirement already satisfied: fonttools==4.53.1 in c:\\users\\student\\documents\\stock-report-data-generator\\stock-info\\lib\\site-packages (from -r requirements.txt (line 6)) (4.53.1)\n",
      "Requirement already satisfied: idna==3.7 in c:\\users\\student\\documents\\stock-report-data-generator\\stock-info\\lib\\site-packages (from -r requirements.txt (line 7)) (3.7)\n",
      "Requirement already satisfied: kiwisolver==1.4.5 in c:\\users\\student\\documents\\stock-report-data-generator\\stock-info\\lib\\site-packages (from -r requirements.txt (line 8)) (1.4.5)\n",
      "Requirement already satisfied: matplotlib==3.9.1 in c:\\users\\student\\documents\\stock-report-data-generator\\stock-info\\lib\\site-packages (from -r requirements.txt (line 9)) (3.9.1)\n",
      "Requirement already satisfied: multipledispatch==1.0.0 in c:\\users\\student\\documents\\stock-report-data-generator\\stock-info\\lib\\site-packages (from -r requirements.txt (line 10)) (1.0.0)\n",
      "Requirement already satisfied: numpy==2.0.0 in c:\\users\\student\\documents\\stock-report-data-generator\\stock-info\\lib\\site-packages (from -r requirements.txt (line 11)) (2.0.0)\n",
      "Requirement already satisfied: packaging==24.1 in c:\\users\\student\\documents\\stock-report-data-generator\\stock-info\\lib\\site-packages (from -r requirements.txt (line 12)) (24.1)\n",
      "Requirement already satisfied: pandas==2.2.2 in c:\\users\\student\\documents\\stock-report-data-generator\\stock-info\\lib\\site-packages (from -r requirements.txt (line 13)) (2.2.2)\n",
      "Requirement already satisfied: pillow==10.4.0 in c:\\users\\student\\documents\\stock-report-data-generator\\stock-info\\lib\\site-packages (from -r requirements.txt (line 14)) (10.4.0)\n",
      "Requirement already satisfied: pyparsing==3.1.2 in c:\\users\\student\\documents\\stock-report-data-generator\\stock-info\\lib\\site-packages (from -r requirements.txt (line 15)) (3.1.2)\n",
      "Requirement already satisfied: python-dateutil==2.9.0.post0 in c:\\users\\student\\documents\\stock-report-data-generator\\stock-info\\lib\\site-packages (from -r requirements.txt (line 16)) (2.9.0.post0)\n",
      "Requirement already satisfied: pytz==2024.1 in c:\\users\\student\\documents\\stock-report-data-generator\\stock-info\\lib\\site-packages (from -r requirements.txt (line 17)) (2024.1)\n",
      "Requirement already satisfied: requests==2.32.3 in c:\\users\\student\\documents\\stock-report-data-generator\\stock-info\\lib\\site-packages (from -r requirements.txt (line 18)) (2.32.3)\n",
      "Requirement already satisfied: six==1.16.0 in c:\\users\\student\\documents\\stock-report-data-generator\\stock-info\\lib\\site-packages (from -r requirements.txt (line 19)) (1.16.0)\n",
      "Requirement already satisfied: tzdata==2024.1 in c:\\users\\student\\documents\\stock-report-data-generator\\stock-info\\lib\\site-packages (from -r requirements.txt (line 20)) (2024.1)\n",
      "Requirement already satisfied: urllib3==2.2.2 in c:\\users\\student\\documents\\stock-report-data-generator\\stock-info\\lib\\site-packages (from -r requirements.txt (line 21)) (2.2.2)\n",
      "Requirement already satisfied: wrapt==1.16.0 in c:\\users\\student\\documents\\stock-report-data-generator\\stock-info\\lib\\site-packages (from -r requirements.txt (line 22)) (1.16.0)\n",
      "Note: you may need to restart the kernel to use updated packages.\n"
     ]
    }
   ],
   "source": [
    "%pip install -r requirements.txt"
   ]
  },
  {
   "cell_type": "code",
   "execution_count": 18,
   "metadata": {},
   "outputs": [
    {
     "name": "stdout",
     "output_type": "stream",
     "text": [
      "Requirement already satisfied: wheel in c:\\users\\student\\documents\\stock-report-data-generator\\stock-info\\lib\\site-packages (0.44.0)\n",
      "Requirement already satisfied: pymysql in c:\\users\\student\\documents\\stock-report-data-generator\\stock-info\\lib\\site-packages (1.1.1)\n",
      "Requirement already satisfied: mysql-connector-python in c:\\users\\student\\documents\\stock-report-data-generator\\stock-info\\lib\\site-packages (9.0.0)\n",
      "Requirement already satisfied: sqlalchemy in c:\\users\\student\\documents\\stock-report-data-generator\\stock-info\\lib\\site-packages (2.0.35)\n",
      "Requirement already satisfied: schedule in c:\\users\\student\\documents\\stock-report-data-generator\\stock-info\\lib\\site-packages (1.2.2)\n",
      "Requirement already satisfied: typing-extensions>=4.6.0 in c:\\users\\student\\documents\\stock-report-data-generator\\stock-info\\lib\\site-packages (from sqlalchemy) (4.12.2)\n",
      "Requirement already satisfied: greenlet!=0.4.17 in c:\\users\\student\\documents\\stock-report-data-generator\\stock-info\\lib\\site-packages (from sqlalchemy) (3.1.1)\n",
      "Note: you may need to restart the kernel to use updated packages.\n"
     ]
    }
   ],
   "source": [
    "%pip install wheel pymysql mysql-connector-python sqlalchemy schedule"
   ]
  },
  {
   "cell_type": "code",
   "execution_count": 19,
   "metadata": {},
   "outputs": [
    {
     "name": "stdout",
     "output_type": "stream",
     "text": [
      "Collecting git+https://github.com/heebp/pykrx.git\n",
      "  Cloning https://github.com/heebp/pykrx.git to c:\\users\\student\\appdata\\local\\temp\\pip-req-build-a7q3gfwu\n",
      "  Resolved https://github.com/heebp/pykrx.git to commit b0ffe3651dfb7037d5494d03b16a04622aec5a6a\n",
      "  Preparing metadata (setup.py): started\n",
      "  Preparing metadata (setup.py): finished with status 'done'\n",
      "Requirement already satisfied: requests in c:\\users\\student\\documents\\stock-report-data-generator\\stock-info\\lib\\site-packages (from pykrx==1.0.48) (2.32.3)\n",
      "Requirement already satisfied: pandas in c:\\users\\student\\documents\\stock-report-data-generator\\stock-info\\lib\\site-packages (from pykrx==1.0.48) (2.2.2)\n",
      "Requirement already satisfied: datetime in c:\\users\\student\\documents\\stock-report-data-generator\\stock-info\\lib\\site-packages (from pykrx==1.0.48) (5.5)\n",
      "Requirement already satisfied: numpy in c:\\users\\student\\documents\\stock-report-data-generator\\stock-info\\lib\\site-packages (from pykrx==1.0.48) (2.0.0)\n",
      "Requirement already satisfied: xlrd in c:\\users\\student\\documents\\stock-report-data-generator\\stock-info\\lib\\site-packages (from pykrx==1.0.48) (2.0.1)\n",
      "Requirement already satisfied: deprecated in c:\\users\\student\\documents\\stock-report-data-generator\\stock-info\\lib\\site-packages (from pykrx==1.0.48) (1.2.14)\n",
      "Requirement already satisfied: multipledispatch in c:\\users\\student\\documents\\stock-report-data-generator\\stock-info\\lib\\site-packages (from pykrx==1.0.48) (1.0.0)\n",
      "Requirement already satisfied: matplotlib in c:\\users\\student\\documents\\stock-report-data-generator\\stock-info\\lib\\site-packages (from pykrx==1.0.48) (3.9.1)\n",
      "Requirement already satisfied: zope.interface in c:\\users\\student\\documents\\stock-report-data-generator\\stock-info\\lib\\site-packages (from datetime->pykrx==1.0.48) (7.0.3)\n",
      "Requirement already satisfied: pytz in c:\\users\\student\\documents\\stock-report-data-generator\\stock-info\\lib\\site-packages (from datetime->pykrx==1.0.48) (2024.1)\n",
      "Requirement already satisfied: wrapt<2,>=1.10 in c:\\users\\student\\documents\\stock-report-data-generator\\stock-info\\lib\\site-packages (from deprecated->pykrx==1.0.48) (1.16.0)\n",
      "Requirement already satisfied: contourpy>=1.0.1 in c:\\users\\student\\documents\\stock-report-data-generator\\stock-info\\lib\\site-packages (from matplotlib->pykrx==1.0.48) (1.2.1)\n",
      "Requirement already satisfied: cycler>=0.10 in c:\\users\\student\\documents\\stock-report-data-generator\\stock-info\\lib\\site-packages (from matplotlib->pykrx==1.0.48) (0.12.1)\n",
      "Requirement already satisfied: fonttools>=4.22.0 in c:\\users\\student\\documents\\stock-report-data-generator\\stock-info\\lib\\site-packages (from matplotlib->pykrx==1.0.48) (4.53.1)\n",
      "Requirement already satisfied: kiwisolver>=1.3.1 in c:\\users\\student\\documents\\stock-report-data-generator\\stock-info\\lib\\site-packages (from matplotlib->pykrx==1.0.48) (1.4.5)\n",
      "Requirement already satisfied: packaging>=20.0 in c:\\users\\student\\documents\\stock-report-data-generator\\stock-info\\lib\\site-packages (from matplotlib->pykrx==1.0.48) (24.1)\n",
      "Requirement already satisfied: pillow>=8 in c:\\users\\student\\documents\\stock-report-data-generator\\stock-info\\lib\\site-packages (from matplotlib->pykrx==1.0.48) (10.4.0)\n",
      "Requirement already satisfied: pyparsing>=2.3.1 in c:\\users\\student\\documents\\stock-report-data-generator\\stock-info\\lib\\site-packages (from matplotlib->pykrx==1.0.48) (3.1.2)\n",
      "Requirement already satisfied: python-dateutil>=2.7 in c:\\users\\student\\documents\\stock-report-data-generator\\stock-info\\lib\\site-packages (from matplotlib->pykrx==1.0.48) (2.9.0.post0)\n",
      "Requirement already satisfied: tzdata>=2022.7 in c:\\users\\student\\documents\\stock-report-data-generator\\stock-info\\lib\\site-packages (from pandas->pykrx==1.0.48) (2024.1)\n",
      "Requirement already satisfied: charset-normalizer<4,>=2 in c:\\users\\student\\documents\\stock-report-data-generator\\stock-info\\lib\\site-packages (from requests->pykrx==1.0.48) (3.3.2)\n",
      "Requirement already satisfied: idna<4,>=2.5 in c:\\users\\student\\documents\\stock-report-data-generator\\stock-info\\lib\\site-packages (from requests->pykrx==1.0.48) (3.7)\n",
      "Requirement already satisfied: urllib3<3,>=1.21.1 in c:\\users\\student\\documents\\stock-report-data-generator\\stock-info\\lib\\site-packages (from requests->pykrx==1.0.48) (2.2.2)\n",
      "Requirement already satisfied: certifi>=2017.4.17 in c:\\users\\student\\documents\\stock-report-data-generator\\stock-info\\lib\\site-packages (from requests->pykrx==1.0.48) (2024.7.4)\n",
      "Requirement already satisfied: six>=1.5 in c:\\users\\student\\documents\\stock-report-data-generator\\stock-info\\lib\\site-packages (from python-dateutil>=2.7->matplotlib->pykrx==1.0.48) (1.16.0)\n",
      "Requirement already satisfied: setuptools in c:\\users\\student\\documents\\stock-report-data-generator\\stock-info\\lib\\site-packages (from zope.interface->datetime->pykrx==1.0.48) (75.1.0)\n",
      "Note: you may need to restart the kernel to use updated packages.\n"
     ]
    },
    {
     "name": "stderr",
     "output_type": "stream",
     "text": [
      "  Running command git clone --filter=blob:none --quiet https://github.com/heebp/pykrx.git 'C:\\Users\\student\\AppData\\Local\\Temp\\pip-req-build-a7q3gfwu'\n"
     ]
    }
   ],
   "source": [
    "%pip install git+https://github.com/heebp/pykrx.git\n"
   ]
  },
  {
   "cell_type": "code",
   "execution_count": 20,
   "metadata": {},
   "outputs": [],
   "source": [
    "from pykrx import stock\n",
    "from pykrx import bond\n",
    "import os\n",
    "from dotenv import load_dotenv\n",
    "import pandas as pd\n",
    "import datetime\n",
    "from sqlalchemy import create_engine, MetaData, Table\n",
    "from sqlalchemy.orm import sessionmaker\n",
    "\n",
    "load_dotenv()\n",
    "\n",
    "DB_HOST = os.getenv(\"DB_HOST\")\n",
    "DB_USERNAME = os.getenv(\"DB_USERNAME\")\n",
    "DB_PASSWORD = os.getenv(\"DB_PASSWORD\")\n",
    "DB_SCHEME = os.getenv(\"DB_SCHEME\")\n",
    "\n",
    "db_username = DB_USERNAME\n",
    "db_password = DB_PASSWORD\n",
    "db_host = DB_HOST\n",
    "db_name = DB_SCHEME\n",
    "\n",
    "engine = create_engine(f'mysql+pymysql://{db_username}:{db_password}@{db_host}/{db_name}')"
   ]
  },
  {
   "cell_type": "code",
   "execution_count": 21,
   "metadata": {},
   "outputs": [],
   "source": [
    "def get_stock_history_columns(table_name):\n",
    "  metadata = MetaData()\n",
    "  table = Table(table_name, metadata, autoload_with=engine)\n",
    "  db_columns = [column.name for column in table.columns]\n",
    "  return db_columns"
   ]
  },
  {
   "cell_type": "code",
   "execution_count": 22,
   "metadata": {},
   "outputs": [],
   "source": [
    "def get_price_data(at_date):\n",
    "  df1 = stock.get_market_ohlcv(at_date, market=\"KOSPI\")\n",
    "  df2 = stock.get_market_ohlcv(at_date, market=\"KOSDAQ\")\n",
    "\n",
    "  result = pd.concat([df1, df2], axis=0)\n",
    "\n",
    "  return result"
   ]
  },
  {
   "cell_type": "code",
   "execution_count": 23,
   "metadata": {},
   "outputs": [],
   "source": [
    "def get_stock_id_by_short_code():\n",
    "  Session = sessionmaker(bind=engine)\n",
    "  session = Session()\n",
    "\n",
    "  metadata = MetaData()\n",
    "  stock_table = Table('STOCK', metadata, autoload_with=engine)\n",
    "\n",
    "  # stock 테이블에서 short_code와 stock_id 조회\n",
    "  query = session.query(stock_table.c.SHORT_CODE, stock_table.c.STOCK_ID).all()\n",
    "\n",
    "  session.close()\n",
    "  \n",
    "  # short_code와 stock_id를 매핑한 딕셔너리 생성\n",
    "  return {row.SHORT_CODE: row.STOCK_ID for row in query}\n"
   ]
  },
  {
   "cell_type": "code",
   "execution_count": 24,
   "metadata": {},
   "outputs": [],
   "source": [
    "def convert_columns(data):\n",
    "  data = data.reset_index()\n",
    "\n",
    "  column_mapping = {\n",
    "    '티커': 'SHORT_CODE',\n",
    "    '시가': 'OPEN_PRICE',\n",
    "    '종가': 'CURRENT_PRICE',\n",
    "    '고가': 'HIGH_PRICE',\n",
    "    '저가': 'LOW_PRICE',\n",
    "  }\n",
    "\n",
    "  data.rename(columns=column_mapping, inplace=True)\n",
    "  short_code_to_stock_id_map = get_stock_id_by_short_code()\n",
    "  data['STOCK_ID'] = data['SHORT_CODE'].map(short_code_to_stock_id_map)\n",
    "  data['STOCK_ID'] = data['STOCK_ID'].astype(int)\n",
    "  return data"
   ]
  },
  {
   "cell_type": "code",
   "execution_count": 25,
   "metadata": {},
   "outputs": [],
   "source": [
    "def fetch_KOSPI_KOSDAQ_price_data():\n",
    "\n",
    "  price = get_price_data(datetime.datetime.now().strftime(\"%Y%m%d\"))\n",
    "\n",
    "  price = convert_columns(price)\n",
    "\n",
    "  return price[['STOCK_ID','SHORT_CODE','CURRENT_PRICE']]"
   ]
  },
  {
   "cell_type": "code",
   "execution_count": 26,
   "metadata": {},
   "outputs": [],
   "source": [
    "def fetch_and_save_data(time):\n",
    "    # 주식 데이터를 가져오는 함수 호출\n",
    "    data = fetch_KOSPI_KOSDAQ_price_data()\n",
    "    \n",
    "    data['STOCK_HISTORY_ID'] = time\n",
    "    data.to_sql(name='STOCK_HISTORY', con=engine, if_exists='append', index=False)\n",
    "    print(\"Data saved at:\", datetime.datetime.now())\n"
   ]
  },
  {
   "cell_type": "code",
   "execution_count": 27,
   "metadata": {},
   "outputs": [],
   "source": [
    "\n",
    "# 주식 개장 시간인지 확인하는 함수\n",
    "def is_market_open():\n",
    "    current_time = datetime.datetime.now().time()\n",
    "    market_open_time = datetime.time(9, 0)  # 09:00 AM\n",
    "    market_close_time = datetime.time(15, 30)  # 03:30 PM\n",
    "    return market_open_time <= current_time <= market_close_time\n"
   ]
  },
  {
   "cell_type": "code",
   "execution_count": 28,
   "metadata": {},
   "outputs": [
    {
     "name": "stdout",
     "output_type": "stream",
     "text": [
      "Data saved at: 2024-10-02 15:30:06.051866\n"
     ]
    },
    {
     "ename": "KeyboardInterrupt",
     "evalue": "",
     "output_type": "error",
     "traceback": [
      "\u001b[1;31m---------------------------------------------------------------------------\u001b[0m",
      "\u001b[1;31mKeyboardInterrupt\u001b[0m                         Traceback (most recent call last)",
      "Cell \u001b[1;32mIn[28], line 19\u001b[0m\n\u001b[0;32m     16\u001b[0m         time\u001b[38;5;241m.\u001b[39msleep(\u001b[38;5;241m1\u001b[39m)\n\u001b[0;32m     18\u001b[0m \u001b[38;5;66;03m# 스케줄 시작\u001b[39;00m\n\u001b[1;32m---> 19\u001b[0m \u001b[43mstock_market_schedule\u001b[49m\u001b[43m(\u001b[49m\u001b[43m)\u001b[49m\n",
      "Cell \u001b[1;32mIn[28], line 16\u001b[0m, in \u001b[0;36mstock_market_schedule\u001b[1;34m()\u001b[0m\n\u001b[0;32m     14\u001b[0m         fetch_and_save_data(now\u001b[38;5;241m.\u001b[39mstrftime(\u001b[38;5;124m\"\u001b[39m\u001b[38;5;124m%\u001b[39m\u001b[38;5;124mY\u001b[39m\u001b[38;5;124m%\u001b[39m\u001b[38;5;124mm\u001b[39m\u001b[38;5;132;01m%d\u001b[39;00m\u001b[38;5;124m%\u001b[39m\u001b[38;5;124mH\u001b[39m\u001b[38;5;124m%\u001b[39m\u001b[38;5;124mM\u001b[39m\u001b[38;5;124m%\u001b[39m\u001b[38;5;124mS\u001b[39m\u001b[38;5;124m\"\u001b[39m))        \n\u001b[0;32m     15\u001b[0m \u001b[38;5;66;03m# 1초 대기 후 다시 체크\u001b[39;00m\n\u001b[1;32m---> 16\u001b[0m \u001b[43mtime\u001b[49m\u001b[38;5;241;43m.\u001b[39;49m\u001b[43msleep\u001b[49m\u001b[43m(\u001b[49m\u001b[38;5;241;43m1\u001b[39;49m\u001b[43m)\u001b[49m\n",
      "\u001b[1;31mKeyboardInterrupt\u001b[0m: "
     ]
    }
   ],
   "source": [
    "import schedule\n",
    "import time\n",
    "import datetime\n",
    "\n",
    "def stock_market_schedule():\n",
    "    while True:\n",
    "        now = datetime.datetime.now()\n",
    "\n",
    "        # 주식 개장 시간 (9:00 ~ 15:30) 체크\n",
    "        if now.hour >= 9 and (now.hour < 15 or (now.hour == 15 and now.minute <= 30)):\n",
    "            \n",
    "            # 현재 시간이 10분 단위이고, 초가 00초일 때 실행\n",
    "            if now.minute % 10 == 0 and now.second == 0:\n",
    "                fetch_and_save_data(now.strftime(\"%Y%m%d%H%M%S\"))        \n",
    "        # 1초 대기 후 다시 체크\n",
    "        time.sleep(1)\n",
    "\n",
    "# 스케줄 시작\n",
    "stock_market_schedule()"
   ]
  }
 ],
 "metadata": {
  "kernelspec": {
   "display_name": "gpt4all",
   "language": "python",
   "name": "python3"
  },
  "language_info": {
   "codemirror_mode": {
    "name": "ipython",
    "version": 3
   },
   "file_extension": ".py",
   "mimetype": "text/x-python",
   "name": "python",
   "nbconvert_exporter": "python",
   "pygments_lexer": "ipython3",
   "version": "3.12.6"
  }
 },
 "nbformat": 4,
 "nbformat_minor": 2
}
