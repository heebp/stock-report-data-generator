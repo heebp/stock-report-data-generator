{
 "cells": [
  {
   "cell_type": "code",
   "execution_count": null,
   "metadata": {},
   "outputs": [],
   "source": [
    "%pip install mojito2 python-dotenv pandas requests\n"
   ]
  },
  {
   "cell_type": "code",
   "execution_count": null,
   "metadata": {},
   "outputs": [],
   "source": [
    "import os\n",
    "from dotenv import load_dotenv\n",
    "import requests\n",
    "import json\n",
    "\n",
    "load_dotenv()\n",
    "\n",
    "KIS_APP_KEY = os.getenv(\"KIS_APP_KEY\")\n",
    "KIS_APP_SECRET = os.getenv(\"KIS_APP_SECRET\")\n",
    "KIS_ACC_NO = os.getenv(\"KIS_ACC_NO\")\n",
    "DB_HOST = os.getev(\"DB_HOST\")\n",
    "DB_USERNAME = os.getev(\"DB_USERNAME\")\n",
    "DB_PASSWORD = os.getev(\"DB_PASSWORD\")\n",
    "DB_SCHEME = os.getev(\"DB_SCHEME\")"
   ]
  },
  {
   "cell_type": "code",
   "execution_count": null,
   "metadata": {},
   "outputs": [],
   "source": [
    "#토큰 발급\n",
    "url = 'https://openapi.koreainvestment.com:9443/oauth2/tokenP'\n",
    "\n",
    "body = {\n",
    "    \"grant_type\" : \"client_credentials\",\n",
    "    \"appkey\" : KIS_APP_KEY,\n",
    "    \"appsecret\" : KIS_APP_SECRET,\n",
    "}\n",
    "\n",
    "res = requests.post(url, data=json.dumps(body))\n",
    "rescode = res.status_code\n",
    "# if rescode == 200:\n",
    "#     print(res.headers)\n",
    "#     print(str(rescode) + \" | \" + res.text)\n",
    "# else:\n",
    "#     print(\"Error Code : \" + str(rescode) + \" | \" + res.text)"
   ]
  },
  {
   "cell_type": "code",
   "execution_count": null,
   "metadata": {},
   "outputs": [],
   "source": [
    "data = json.loads(res.text)\n",
    "\n",
    "# data[\"access_token\"]\n",
    "TOKEN = data[\"access_token\"]"
   ]
  },
  {
   "cell_type": "code",
   "execution_count": null,
   "metadata": {},
   "outputs": [],
   "source": []
  }
 ],
 "metadata": {
  "language_info": {
   "name": "python"
  }
 },
 "nbformat": 4,
 "nbformat_minor": 2
}
