{
 "cells": [
  {
   "cell_type": "code",
   "execution_count": 5,
   "metadata": {},
   "outputs": [
    {
     "name": "stdout",
     "output_type": "stream",
     "text": [
      "Requirement already satisfied: newspaper3k in c:\\users\\david\\desktop\\projects\\llm-application\\stock-news\\lib\\site-packages (0.2.8)Note: you may need to restart the kernel to use updated packages.\n",
      "\n",
      "Collecting lxml_html_clean\n",
      "  Downloading lxml_html_clean-0.2.2-py3-none-any.whl.metadata (1.8 kB)\n",
      "Requirement already satisfied: beautifulsoup4>=4.4.1 in c:\\users\\david\\desktop\\projects\\llm-application\\stock-news\\lib\\site-packages (from newspaper3k) (4.12.3)\n",
      "Requirement already satisfied: Pillow>=3.3.0 in c:\\users\\david\\desktop\\projects\\llm-application\\stock-news\\lib\\site-packages (from newspaper3k) (10.4.0)\n",
      "Requirement already satisfied: PyYAML>=3.11 in c:\\users\\david\\desktop\\projects\\llm-application\\stock-news\\lib\\site-packages (from newspaper3k) (6.0.2)\n",
      "Requirement already satisfied: cssselect>=0.9.2 in c:\\users\\david\\desktop\\projects\\llm-application\\stock-news\\lib\\site-packages (from newspaper3k) (1.2.0)\n",
      "Requirement already satisfied: lxml>=3.6.0 in c:\\users\\david\\desktop\\projects\\llm-application\\stock-news\\lib\\site-packages (from newspaper3k) (5.3.0)\n",
      "Requirement already satisfied: nltk>=3.2.1 in c:\\users\\david\\desktop\\projects\\llm-application\\stock-news\\lib\\site-packages (from newspaper3k) (3.9.1)\n",
      "Requirement already satisfied: requests>=2.10.0 in c:\\users\\david\\desktop\\projects\\llm-application\\stock-news\\lib\\site-packages (from newspaper3k) (2.32.3)\n",
      "Requirement already satisfied: feedparser>=5.2.1 in c:\\users\\david\\desktop\\projects\\llm-application\\stock-news\\lib\\site-packages (from newspaper3k) (6.0.11)\n",
      "Requirement already satisfied: tldextract>=2.0.1 in c:\\users\\david\\desktop\\projects\\llm-application\\stock-news\\lib\\site-packages (from newspaper3k) (5.1.2)\n",
      "Requirement already satisfied: feedfinder2>=0.0.4 in c:\\users\\david\\desktop\\projects\\llm-application\\stock-news\\lib\\site-packages (from newspaper3k) (0.0.4)\n",
      "Requirement already satisfied: jieba3k>=0.35.1 in c:\\users\\david\\desktop\\projects\\llm-application\\stock-news\\lib\\site-packages (from newspaper3k) (0.35.1)\n",
      "Requirement already satisfied: python-dateutil>=2.5.3 in c:\\users\\david\\desktop\\projects\\llm-application\\stock-news\\lib\\site-packages (from newspaper3k) (2.9.0.post0)\n",
      "Requirement already satisfied: tinysegmenter==0.3 in c:\\users\\david\\desktop\\projects\\llm-application\\stock-news\\lib\\site-packages (from newspaper3k) (0.3)\n",
      "Requirement already satisfied: soupsieve>1.2 in c:\\users\\david\\desktop\\projects\\llm-application\\stock-news\\lib\\site-packages (from beautifulsoup4>=4.4.1->newspaper3k) (2.6)\n",
      "Requirement already satisfied: six in c:\\users\\david\\desktop\\projects\\llm-application\\stock-news\\lib\\site-packages (from feedfinder2>=0.0.4->newspaper3k) (1.16.0)\n",
      "Requirement already satisfied: sgmllib3k in c:\\users\\david\\desktop\\projects\\llm-application\\stock-news\\lib\\site-packages (from feedparser>=5.2.1->newspaper3k) (1.0.0)\n",
      "Requirement already satisfied: click in c:\\users\\david\\desktop\\projects\\llm-application\\stock-news\\lib\\site-packages (from nltk>=3.2.1->newspaper3k) (8.1.7)\n",
      "Requirement already satisfied: joblib in c:\\users\\david\\desktop\\projects\\llm-application\\stock-news\\lib\\site-packages (from nltk>=3.2.1->newspaper3k) (1.4.2)\n",
      "Requirement already satisfied: regex>=2021.8.3 in c:\\users\\david\\desktop\\projects\\llm-application\\stock-news\\lib\\site-packages (from nltk>=3.2.1->newspaper3k) (2024.9.11)\n",
      "Requirement already satisfied: tqdm in c:\\users\\david\\desktop\\projects\\llm-application\\stock-news\\lib\\site-packages (from nltk>=3.2.1->newspaper3k) (4.66.5)\n",
      "Requirement already satisfied: charset-normalizer<4,>=2 in c:\\users\\david\\desktop\\projects\\llm-application\\stock-news\\lib\\site-packages (from requests>=2.10.0->newspaper3k) (3.3.2)\n",
      "Requirement already satisfied: idna<4,>=2.5 in c:\\users\\david\\desktop\\projects\\llm-application\\stock-news\\lib\\site-packages (from requests>=2.10.0->newspaper3k) (3.10)\n",
      "Requirement already satisfied: urllib3<3,>=1.21.1 in c:\\users\\david\\desktop\\projects\\llm-application\\stock-news\\lib\\site-packages (from requests>=2.10.0->newspaper3k) (2.2.3)\n",
      "Requirement already satisfied: certifi>=2017.4.17 in c:\\users\\david\\desktop\\projects\\llm-application\\stock-news\\lib\\site-packages (from requests>=2.10.0->newspaper3k) (2024.8.30)\n",
      "Requirement already satisfied: requests-file>=1.4 in c:\\users\\david\\desktop\\projects\\llm-application\\stock-news\\lib\\site-packages (from tldextract>=2.0.1->newspaper3k) (2.1.0)\n",
      "Requirement already satisfied: filelock>=3.0.8 in c:\\users\\david\\desktop\\projects\\llm-application\\stock-news\\lib\\site-packages (from tldextract>=2.0.1->newspaper3k) (3.16.1)\n",
      "Requirement already satisfied: colorama in c:\\users\\david\\desktop\\projects\\llm-application\\stock-news\\lib\\site-packages (from click->nltk>=3.2.1->newspaper3k) (0.4.6)\n",
      "Downloading lxml_html_clean-0.2.2-py3-none-any.whl (13 kB)\n",
      "Installing collected packages: lxml_html_clean\n",
      "Successfully installed lxml_html_clean-0.2.2\n"
     ]
    }
   ],
   "source": [
    "%pip install newspaper3k lxml_html_clean"
   ]
  },
  {
   "cell_type": "code",
   "execution_count": 6,
   "metadata": {},
   "outputs": [],
   "source": [
    "from newspaper import Article # 패키지 불러오기\n",
    "\n",
    "link = 'https://news.einfomax.co.kr/news/articleView.html?idxno=4325217' # 뉴스 기사 URL\n",
    "article = Article(link, language = 'ko') # URL과 언어를 입력"
   ]
  },
  {
   "cell_type": "code",
   "execution_count": 7,
   "metadata": {},
   "outputs": [],
   "source": [
    "article.download()\n",
    "article.parse()\n",
    "title = article.title\n",
    "text = article.text\n",
    "date = article.publish_date"
   ]
  },
  {
   "cell_type": "code",
   "execution_count": 10,
   "metadata": {},
   "outputs": [
    {
     "data": {
      "text/plain": [
       "\"연준, '빅 컷' 혹은 25bp 인하?…전문가들은 25bp에 무게\""
      ]
     },
     "execution_count": 10,
     "metadata": {},
     "output_type": "execute_result"
    }
   ],
   "source": [
    "title"
   ]
  },
  {
   "cell_type": "code",
   "execution_count": 11,
   "metadata": {},
   "outputs": [
    {
     "data": {
      "text/plain": [
       "'(뉴욕=연합인포맥스) 임하람 특파원 = 미국 연방준비제도(Fed·연준)의 9월 연방공개시장위원회(FOMC)가 개회한 가운데 연준이 어느 폭으로 금리 인하를 단행할지에 대해 초미의 관심이 쏠렸다.\\n\\n美연준 기준금리 인하 임박\\n\\n[연합뉴스TV 제공]\\n\\n연준은 17일(현지시간) 9월 FOMC를 개회했다. FOMC는 이틀 간 열리고, 익일 오후 2시에 금리 결정이 발표된다.\\n\\n연준은 이번 FOMC에서 금리를 전격적으로 인하할 것으로 전망된다. 2022년 3월부터 이어진 긴축 기조를 종료하고, 완화로 \\'피벗(정책 전환)\\'의 신호탄을 쏠 것으로 예상된다.\\n\\n문제는 FOMC 결과를 받아 들기 하루 전까지도 금리 인하 폭이 불확실하다는 것이다.\\n\\n지난주까지만 해도 금융시장은 연준이 통상적인 수준인 25bp 금리 인하를 단행할 것으로 내다봤었다. 다만, 일주일 새 여러 노이즈가 나오면서 \\'빅 컷\\' 50bp 인하 가능성이 급물살을 탔다.\\n\\n우선 미국 유력 언론에서 \\'빅 컷\\'을 가능성을 간접적으로 시사하는 기사가 여러 차례 나오며 50bp 인하론에 불을 지폈다.\\n\\n그뿐만 아니라 윌리엄 더들리, 로버트 카플란 등 전임 FOMC 위원들이 나서 50bp 인하를 주장하고 나섰다. \\'삼의 법칙\\' 창시자인 클라우디아 삼도 연준이 50bp 인하를 단행해야 한다고 주장했다.\\n\\n금리 선물 시장에서의 베팅을 나타내는 시카고상품거래소(CME) 페드워치 툴에 따르면 이날 연준의 \\'빅 컷\\' 인하 전망은 67%로, 25bp 인하 가능성 33%의 두 배 정도였다.\\n\\n다만, 전문가들은 아직 연준의 25bp 인하 가능성에 무게를 두고 있는 것으로 나타났다.\\n\\n미국 경제 방송 CNBC가 이코노미스트들과 전략가, 펀드매니저 등 27명을 조사한 바에 따르면, 84%의 참가자들은 연준이 금리를 25bp 인하할 것으로 내다봤다. 단 16%의 참가자들만 익일 연준의 50bp 인하를 전망했다.\\n\\n전문가들은 미국 경제 전망에 대해서도 선물 시장보다는 더 낙관적이었다.\\n\\n74%의 참가자들은 연준이 9월 인하를 단행할 경우 미국 경제는 연착륙에 도달할 수 있다고 말했다. 9월 인하가 연착륙을 담보하기에 너무 늦다고 주장한 참가자들은 15%에 그쳤다.\\n\\nCNBC는 현재까지 전문가들이 보는 미국 경기 연착륙 확률은 53%이고, 경기 침체 전망은 36%라고 덧붙였다.\\n\\n액션 이코노믹스의 마이클 잉글런드는 \"올해 경제는 예상보다 빠르게 성장하고 있으며 연준은 조절된 속도로 금리를 낮출 시간이 있다\"고 설명했다.\\n\\nhrlim@yna.co.kr\\n\\n(끝)\\n\\n<저작권자 (c) 연합인포맥스, 무단전재 및 재배포 금지, AI 학습 및 활용 금지>\\n\\n본 기사는 인포맥스 금융정보 단말기에서 2시간 더 빠른 02시 17분에 서비스된 기사입니다.'"
      ]
     },
     "execution_count": 11,
     "metadata": {},
     "output_type": "execute_result"
    }
   ],
   "source": [
    "text"
   ]
  },
  {
   "cell_type": "code",
   "execution_count": 12,
   "metadata": {},
   "outputs": [
    {
     "data": {
      "text/plain": [
       "datetime.datetime(2024, 9, 18, 4, 18, tzinfo=tzoffset(None, 32400))"
      ]
     },
     "execution_count": 12,
     "metadata": {},
     "output_type": "execute_result"
    }
   ],
   "source": [
    "date"
   ]
  }
 ],
 "metadata": {
  "kernelspec": {
   "display_name": "stock-news",
   "language": "python",
   "name": "python3"
  },
  "language_info": {
   "codemirror_mode": {
    "name": "ipython",
    "version": 3
   },
   "file_extension": ".py",
   "mimetype": "text/x-python",
   "name": "python",
   "nbconvert_exporter": "python",
   "pygments_lexer": "ipython3",
   "version": "3.12.6"
  }
 },
 "nbformat": 4,
 "nbformat_minor": 2
}
